{
 "cells": [
  {
   "cell_type": "code",
   "execution_count": 1,
   "id": "c40a9a14-43af-451e-a0ff-86bf4c502299",
   "metadata": {},
   "outputs": [
    {
     "data": {
      "text/html": [
       "<div>\n",
       "<style scoped>\n",
       "    .dataframe tbody tr th:only-of-type {\n",
       "        vertical-align: middle;\n",
       "    }\n",
       "\n",
       "    .dataframe tbody tr th {\n",
       "        vertical-align: top;\n",
       "    }\n",
       "\n",
       "    .dataframe thead th {\n",
       "        text-align: right;\n",
       "    }\n",
       "</style>\n",
       "<table border=\"1\" class=\"dataframe\">\n",
       "  <thead>\n",
       "    <tr style=\"text-align: right;\">\n",
       "      <th></th>\n",
       "      <th>Jurusan</th>\n",
       "      <th>Usia</th>\n",
       "      <th>Jenis Kelamin</th>\n",
       "      <th>Pendapatan Keluarga</th>\n",
       "      <th>Lokasi Sekolah</th>\n",
       "      <th>Jumlah Jam HP Harian</th>\n",
       "      <th>Potensi Burnout</th>\n",
       "    </tr>\n",
       "  </thead>\n",
       "  <tbody>\n",
       "    <tr>\n",
       "      <th>0</th>\n",
       "      <td>Teknik Otomotif</td>\n",
       "      <td>15</td>\n",
       "      <td>Laki-laki</td>\n",
       "      <td>Tinggi</td>\n",
       "      <td>Suburban</td>\n",
       "      <td>6</td>\n",
       "      <td>Sedang</td>\n",
       "    </tr>\n",
       "    <tr>\n",
       "      <th>1</th>\n",
       "      <td>Teknik Mesin</td>\n",
       "      <td>16</td>\n",
       "      <td>Perempuan</td>\n",
       "      <td>Menengah</td>\n",
       "      <td>Rural</td>\n",
       "      <td>3</td>\n",
       "      <td>Rendah</td>\n",
       "    </tr>\n",
       "    <tr>\n",
       "      <th>2</th>\n",
       "      <td>Akuntansi</td>\n",
       "      <td>18</td>\n",
       "      <td>Perempuan</td>\n",
       "      <td>Tinggi</td>\n",
       "      <td>Suburban</td>\n",
       "      <td>9</td>\n",
       "      <td>Tinggi</td>\n",
       "    </tr>\n",
       "    <tr>\n",
       "      <th>3</th>\n",
       "      <td>Tata Boga</td>\n",
       "      <td>16</td>\n",
       "      <td>Perempuan</td>\n",
       "      <td>Menengah</td>\n",
       "      <td>Rural</td>\n",
       "      <td>5</td>\n",
       "      <td>Sedang</td>\n",
       "    </tr>\n",
       "    <tr>\n",
       "      <th>4</th>\n",
       "      <td>Multimedia</td>\n",
       "      <td>17</td>\n",
       "      <td>Laki-laki</td>\n",
       "      <td>Rendah</td>\n",
       "      <td>Suburban</td>\n",
       "      <td>8</td>\n",
       "      <td>Tinggi</td>\n",
       "    </tr>\n",
       "    <tr>\n",
       "      <th>...</th>\n",
       "      <td>...</td>\n",
       "      <td>...</td>\n",
       "      <td>...</td>\n",
       "      <td>...</td>\n",
       "      <td>...</td>\n",
       "      <td>...</td>\n",
       "      <td>...</td>\n",
       "    </tr>\n",
       "    <tr>\n",
       "      <th>646</th>\n",
       "      <td>Tata Boga</td>\n",
       "      <td>15</td>\n",
       "      <td>Perempuan</td>\n",
       "      <td>Rendah</td>\n",
       "      <td>Rural</td>\n",
       "      <td>11</td>\n",
       "      <td>Tinggi</td>\n",
       "    </tr>\n",
       "    <tr>\n",
       "      <th>647</th>\n",
       "      <td>Teknik Mesin</td>\n",
       "      <td>16</td>\n",
       "      <td>Laki-laki</td>\n",
       "      <td>Menengah</td>\n",
       "      <td>Suburban</td>\n",
       "      <td>4</td>\n",
       "      <td>Rendah</td>\n",
       "    </tr>\n",
       "    <tr>\n",
       "      <th>648</th>\n",
       "      <td>Teknik Otomotif</td>\n",
       "      <td>18</td>\n",
       "      <td>Laki-laki</td>\n",
       "      <td>Rendah</td>\n",
       "      <td>Urban</td>\n",
       "      <td>8</td>\n",
       "      <td>Tinggi</td>\n",
       "    </tr>\n",
       "    <tr>\n",
       "      <th>649</th>\n",
       "      <td>Akuntansi</td>\n",
       "      <td>17</td>\n",
       "      <td>Laki-laki</td>\n",
       "      <td>Menengah</td>\n",
       "      <td>Rural</td>\n",
       "      <td>2</td>\n",
       "      <td>Tinggi</td>\n",
       "    </tr>\n",
       "    <tr>\n",
       "      <th>650</th>\n",
       "      <td>Multimedia</td>\n",
       "      <td>15</td>\n",
       "      <td>Laki-laki</td>\n",
       "      <td>Tinggi</td>\n",
       "      <td>Suburban</td>\n",
       "      <td>6</td>\n",
       "      <td>Sedang</td>\n",
       "    </tr>\n",
       "  </tbody>\n",
       "</table>\n",
       "<p>651 rows × 7 columns</p>\n",
       "</div>"
      ],
      "text/plain": [
       "             Jurusan  Usia Jenis Kelamin Pendapatan Keluarga Lokasi Sekolah  \\\n",
       "0    Teknik Otomotif    15     Laki-laki              Tinggi       Suburban   \n",
       "1       Teknik Mesin    16     Perempuan            Menengah          Rural   \n",
       "2          Akuntansi    18     Perempuan              Tinggi       Suburban   \n",
       "3          Tata Boga    16     Perempuan            Menengah          Rural   \n",
       "4         Multimedia    17     Laki-laki              Rendah       Suburban   \n",
       "..               ...   ...           ...                 ...            ...   \n",
       "646        Tata Boga    15     Perempuan              Rendah          Rural   \n",
       "647     Teknik Mesin    16     Laki-laki            Menengah       Suburban   \n",
       "648  Teknik Otomotif    18     Laki-laki              Rendah          Urban   \n",
       "649        Akuntansi    17     Laki-laki            Menengah          Rural   \n",
       "650       Multimedia    15     Laki-laki              Tinggi       Suburban   \n",
       "\n",
       "     Jumlah Jam HP Harian Potensi Burnout  \n",
       "0                       6          Sedang  \n",
       "1                       3          Rendah  \n",
       "2                       9          Tinggi  \n",
       "3                       5          Sedang  \n",
       "4                       8          Tinggi  \n",
       "..                    ...             ...  \n",
       "646                    11          Tinggi  \n",
       "647                     4          Rendah  \n",
       "648                     8          Tinggi  \n",
       "649                     2          Tinggi  \n",
       "650                     6          Sedang  \n",
       "\n",
       "[651 rows x 7 columns]"
      ]
     },
     "execution_count": 1,
     "metadata": {},
     "output_type": "execute_result"
    }
   ],
   "source": [
    "import pandas as pd\n",
    "df = pd.read_csv(\"dataset_kesehatan_mental.csv\")\n",
    "df"
   ]
  },
  {
   "cell_type": "code",
   "execution_count": 2,
   "id": "d8758c9d-c8b9-4b6f-bede-2fc5282499a8",
   "metadata": {},
   "outputs": [
    {
     "data": {
      "text/plain": [
       "(651, 7)"
      ]
     },
     "execution_count": 2,
     "metadata": {},
     "output_type": "execute_result"
    }
   ],
   "source": [
    "df.shape"
   ]
  },
  {
   "cell_type": "code",
   "execution_count": 4,
   "id": "d68d1b8f-c7a6-49fa-93b8-1b424fc6e26c",
   "metadata": {},
   "outputs": [
    {
     "data": {
      "text/plain": [
       "Index(['Jurusan', 'Usia', 'Jenis Kelamin', 'Pendapatan Keluarga',\n",
       "       'Lokasi Sekolah', 'Jumlah Jam HP Harian', 'Potensi Burnout'],\n",
       "      dtype='object')"
      ]
     },
     "execution_count": 4,
     "metadata": {},
     "output_type": "execute_result"
    }
   ],
   "source": [
    "df.columns"
   ]
  },
  {
   "cell_type": "code",
   "execution_count": 5,
   "id": "48c176d7-a02a-4189-8c7a-cbd693957d00",
   "metadata": {},
   "outputs": [
    {
     "data": {
      "text/plain": [
       "<bound method NDFrame.describe of              Jurusan  Usia Jenis Kelamin Pendapatan Keluarga Lokasi Sekolah  \\\n",
       "0    Teknik Otomotif    15     Laki-laki              Tinggi       Suburban   \n",
       "1       Teknik Mesin    16     Perempuan            Menengah          Rural   \n",
       "2          Akuntansi    18     Perempuan              Tinggi       Suburban   \n",
       "3          Tata Boga    16     Perempuan            Menengah          Rural   \n",
       "4         Multimedia    17     Laki-laki              Rendah       Suburban   \n",
       "..               ...   ...           ...                 ...            ...   \n",
       "646        Tata Boga    15     Perempuan              Rendah          Rural   \n",
       "647     Teknik Mesin    16     Laki-laki            Menengah       Suburban   \n",
       "648  Teknik Otomotif    18     Laki-laki              Rendah          Urban   \n",
       "649        Akuntansi    17     Laki-laki            Menengah          Rural   \n",
       "650       Multimedia    15     Laki-laki              Tinggi       Suburban   \n",
       "\n",
       "     Jumlah Jam HP Harian Potensi Burnout  \n",
       "0                       6          Sedang  \n",
       "1                       3          Rendah  \n",
       "2                       9          Tinggi  \n",
       "3                       5          Sedang  \n",
       "4                       8          Tinggi  \n",
       "..                    ...             ...  \n",
       "646                    11          Tinggi  \n",
       "647                     4          Rendah  \n",
       "648                     8          Tinggi  \n",
       "649                     2          Tinggi  \n",
       "650                     6          Sedang  \n",
       "\n",
       "[651 rows x 7 columns]>"
      ]
     },
     "execution_count": 5,
     "metadata": {},
     "output_type": "execute_result"
    }
   ],
   "source": [
    "df.describe"
   ]
  },
  {
   "cell_type": "code",
   "execution_count": 6,
   "id": "d755dbfe-6321-4878-905d-a8e735b271bf",
   "metadata": {},
   "outputs": [
    {
     "data": {
      "text/plain": [
       "<bound method IndexOpsMixin.value_counts of 0      Teknik Otomotif\n",
       "1         Teknik Mesin\n",
       "2            Akuntansi\n",
       "3            Tata Boga\n",
       "4           Multimedia\n",
       "            ...       \n",
       "646          Tata Boga\n",
       "647       Teknik Mesin\n",
       "648    Teknik Otomotif\n",
       "649          Akuntansi\n",
       "650         Multimedia\n",
       "Name: Jurusan, Length: 651, dtype: object>"
      ]
     },
     "execution_count": 6,
     "metadata": {},
     "output_type": "execute_result"
    }
   ],
   "source": [
    "df[\"Jurusan\"].value_counts"
   ]
  },
  {
   "cell_type": "code",
   "execution_count": 7,
   "id": "c87b4add-3745-4ee4-b74d-062d8d82bead",
   "metadata": {},
   "outputs": [
    {
     "data": {
      "text/plain": [
       "<bound method IndexOpsMixin.value_counts of 0      Laki-laki\n",
       "1      Perempuan\n",
       "2      Perempuan\n",
       "3      Perempuan\n",
       "4      Laki-laki\n",
       "         ...    \n",
       "646    Perempuan\n",
       "647    Laki-laki\n",
       "648    Laki-laki\n",
       "649    Laki-laki\n",
       "650    Laki-laki\n",
       "Name: Jenis Kelamin, Length: 651, dtype: object>"
      ]
     },
     "execution_count": 7,
     "metadata": {},
     "output_type": "execute_result"
    }
   ],
   "source": [
    "df[\"Jenis Kelamin\"].value_counts"
   ]
  },
  {
   "cell_type": "code",
   "execution_count": 9,
   "id": "5ab17d28-7415-469d-ba55-905e53c6fc4c",
   "metadata": {},
   "outputs": [
    {
     "data": {
      "text/plain": [
       "<bound method IndexOpsMixin.value_counts of 0        Tinggi\n",
       "1      Menengah\n",
       "2        Tinggi\n",
       "3      Menengah\n",
       "4        Rendah\n",
       "         ...   \n",
       "646      Rendah\n",
       "647    Menengah\n",
       "648      Rendah\n",
       "649    Menengah\n",
       "650      Tinggi\n",
       "Name: Pendapatan Keluarga, Length: 651, dtype: object>"
      ]
     },
     "execution_count": 9,
     "metadata": {},
     "output_type": "execute_result"
    }
   ],
   "source": [
    "df[\"Pendapatan Keluarga\"].value_counts"
   ]
  },
  {
   "cell_type": "code",
   "execution_count": 8,
   "id": "79f9c15c-a206-45f5-9bd3-e7ad8e4633a0",
   "metadata": {},
   "outputs": [
    {
     "data": {
      "text/plain": [
       "<bound method IndexOpsMixin.value_counts of 0      Suburban\n",
       "1         Rural\n",
       "2      Suburban\n",
       "3         Rural\n",
       "4      Suburban\n",
       "         ...   \n",
       "646       Rural\n",
       "647    Suburban\n",
       "648       Urban\n",
       "649       Rural\n",
       "650    Suburban\n",
       "Name: Lokasi Sekolah, Length: 651, dtype: object>"
      ]
     },
     "execution_count": 8,
     "metadata": {},
     "output_type": "execute_result"
    }
   ],
   "source": [
    "df[\"Lokasi Sekolah\"].value_counts"
   ]
  },
  {
   "cell_type": "code",
   "execution_count": 10,
   "id": "d8fc4851-2a91-4355-9076-2e7292b8419b",
   "metadata": {},
   "outputs": [
    {
     "data": {
      "text/html": [
       "<div>\n",
       "<style scoped>\n",
       "    .dataframe tbody tr th:only-of-type {\n",
       "        vertical-align: middle;\n",
       "    }\n",
       "\n",
       "    .dataframe tbody tr th {\n",
       "        vertical-align: top;\n",
       "    }\n",
       "\n",
       "    .dataframe thead th {\n",
       "        text-align: right;\n",
       "    }\n",
       "</style>\n",
       "<table border=\"1\" class=\"dataframe\">\n",
       "  <thead>\n",
       "    <tr style=\"text-align: right;\">\n",
       "      <th></th>\n",
       "      <th>Jurusan</th>\n",
       "      <th>Usia</th>\n",
       "      <th>Jenis Kelamin</th>\n",
       "      <th>Pendapatan Keluarga</th>\n",
       "      <th>Lokasi Sekolah</th>\n",
       "      <th>Jumlah Jam HP Harian</th>\n",
       "      <th>Potensi Burnout</th>\n",
       "    </tr>\n",
       "  </thead>\n",
       "  <tbody>\n",
       "    <tr>\n",
       "      <th>0</th>\n",
       "      <td>Teknik Otomotif</td>\n",
       "      <td>15</td>\n",
       "      <td>Laki-laki</td>\n",
       "      <td>Tinggi</td>\n",
       "      <td>Suburban</td>\n",
       "      <td>6</td>\n",
       "      <td>Sedang</td>\n",
       "    </tr>\n",
       "    <tr>\n",
       "      <th>1</th>\n",
       "      <td>Teknik Mesin</td>\n",
       "      <td>16</td>\n",
       "      <td>Perempuan</td>\n",
       "      <td>Menengah</td>\n",
       "      <td>Rural</td>\n",
       "      <td>3</td>\n",
       "      <td>Rendah</td>\n",
       "    </tr>\n",
       "    <tr>\n",
       "      <th>2</th>\n",
       "      <td>Akuntansi</td>\n",
       "      <td>18</td>\n",
       "      <td>Perempuan</td>\n",
       "      <td>Tinggi</td>\n",
       "      <td>Suburban</td>\n",
       "      <td>9</td>\n",
       "      <td>Tinggi</td>\n",
       "    </tr>\n",
       "    <tr>\n",
       "      <th>3</th>\n",
       "      <td>Tata Boga</td>\n",
       "      <td>16</td>\n",
       "      <td>Perempuan</td>\n",
       "      <td>Menengah</td>\n",
       "      <td>Rural</td>\n",
       "      <td>5</td>\n",
       "      <td>Sedang</td>\n",
       "    </tr>\n",
       "    <tr>\n",
       "      <th>4</th>\n",
       "      <td>Multimedia</td>\n",
       "      <td>17</td>\n",
       "      <td>Laki-laki</td>\n",
       "      <td>Rendah</td>\n",
       "      <td>Suburban</td>\n",
       "      <td>8</td>\n",
       "      <td>Tinggi</td>\n",
       "    </tr>\n",
       "  </tbody>\n",
       "</table>\n",
       "</div>"
      ],
      "text/plain": [
       "           Jurusan  Usia Jenis Kelamin Pendapatan Keluarga Lokasi Sekolah  \\\n",
       "0  Teknik Otomotif    15     Laki-laki              Tinggi       Suburban   \n",
       "1     Teknik Mesin    16     Perempuan            Menengah          Rural   \n",
       "2        Akuntansi    18     Perempuan              Tinggi       Suburban   \n",
       "3        Tata Boga    16     Perempuan            Menengah          Rural   \n",
       "4       Multimedia    17     Laki-laki              Rendah       Suburban   \n",
       "\n",
       "   Jumlah Jam HP Harian Potensi Burnout  \n",
       "0                     6          Sedang  \n",
       "1                     3          Rendah  \n",
       "2                     9          Tinggi  \n",
       "3                     5          Sedang  \n",
       "4                     8          Tinggi  "
      ]
     },
     "execution_count": 10,
     "metadata": {},
     "output_type": "execute_result"
    }
   ],
   "source": [
    "df.head()"
   ]
  },
  {
   "cell_type": "code",
   "execution_count": 11,
   "id": "e9fff50b-7bb4-4709-837f-1d9685f20f29",
   "metadata": {},
   "outputs": [
    {
     "data": {
      "text/html": [
       "<div>\n",
       "<style scoped>\n",
       "    .dataframe tbody tr th:only-of-type {\n",
       "        vertical-align: middle;\n",
       "    }\n",
       "\n",
       "    .dataframe tbody tr th {\n",
       "        vertical-align: top;\n",
       "    }\n",
       "\n",
       "    .dataframe thead th {\n",
       "        text-align: right;\n",
       "    }\n",
       "</style>\n",
       "<table border=\"1\" class=\"dataframe\">\n",
       "  <thead>\n",
       "    <tr style=\"text-align: right;\">\n",
       "      <th></th>\n",
       "      <th>Jurusan</th>\n",
       "      <th>Usia</th>\n",
       "      <th>Jenis Kelamin</th>\n",
       "      <th>Pendapatan Keluarga</th>\n",
       "      <th>Lokasi Sekolah</th>\n",
       "      <th>Jumlah Jam HP Harian</th>\n",
       "      <th>Potensi Burnout</th>\n",
       "    </tr>\n",
       "  </thead>\n",
       "  <tbody>\n",
       "    <tr>\n",
       "      <th>646</th>\n",
       "      <td>Tata Boga</td>\n",
       "      <td>15</td>\n",
       "      <td>Perempuan</td>\n",
       "      <td>Rendah</td>\n",
       "      <td>Rural</td>\n",
       "      <td>11</td>\n",
       "      <td>Tinggi</td>\n",
       "    </tr>\n",
       "    <tr>\n",
       "      <th>647</th>\n",
       "      <td>Teknik Mesin</td>\n",
       "      <td>16</td>\n",
       "      <td>Laki-laki</td>\n",
       "      <td>Menengah</td>\n",
       "      <td>Suburban</td>\n",
       "      <td>4</td>\n",
       "      <td>Rendah</td>\n",
       "    </tr>\n",
       "    <tr>\n",
       "      <th>648</th>\n",
       "      <td>Teknik Otomotif</td>\n",
       "      <td>18</td>\n",
       "      <td>Laki-laki</td>\n",
       "      <td>Rendah</td>\n",
       "      <td>Urban</td>\n",
       "      <td>8</td>\n",
       "      <td>Tinggi</td>\n",
       "    </tr>\n",
       "    <tr>\n",
       "      <th>649</th>\n",
       "      <td>Akuntansi</td>\n",
       "      <td>17</td>\n",
       "      <td>Laki-laki</td>\n",
       "      <td>Menengah</td>\n",
       "      <td>Rural</td>\n",
       "      <td>2</td>\n",
       "      <td>Tinggi</td>\n",
       "    </tr>\n",
       "    <tr>\n",
       "      <th>650</th>\n",
       "      <td>Multimedia</td>\n",
       "      <td>15</td>\n",
       "      <td>Laki-laki</td>\n",
       "      <td>Tinggi</td>\n",
       "      <td>Suburban</td>\n",
       "      <td>6</td>\n",
       "      <td>Sedang</td>\n",
       "    </tr>\n",
       "  </tbody>\n",
       "</table>\n",
       "</div>"
      ],
      "text/plain": [
       "             Jurusan  Usia Jenis Kelamin Pendapatan Keluarga Lokasi Sekolah  \\\n",
       "646        Tata Boga    15     Perempuan              Rendah          Rural   \n",
       "647     Teknik Mesin    16     Laki-laki            Menengah       Suburban   \n",
       "648  Teknik Otomotif    18     Laki-laki              Rendah          Urban   \n",
       "649        Akuntansi    17     Laki-laki            Menengah          Rural   \n",
       "650       Multimedia    15     Laki-laki              Tinggi       Suburban   \n",
       "\n",
       "     Jumlah Jam HP Harian Potensi Burnout  \n",
       "646                    11          Tinggi  \n",
       "647                     4          Rendah  \n",
       "648                     8          Tinggi  \n",
       "649                     2          Tinggi  \n",
       "650                     6          Sedang  "
      ]
     },
     "execution_count": 11,
     "metadata": {},
     "output_type": "execute_result"
    }
   ],
   "source": [
    "df.tail()"
   ]
  },
  {
   "cell_type": "code",
   "execution_count": 13,
   "id": "0ab37ef4-6b2c-4f57-97dd-cb070bd7630b",
   "metadata": {},
   "outputs": [
    {
     "data": {
      "text/html": [
       "<div>\n",
       "<style scoped>\n",
       "    .dataframe tbody tr th:only-of-type {\n",
       "        vertical-align: middle;\n",
       "    }\n",
       "\n",
       "    .dataframe tbody tr th {\n",
       "        vertical-align: top;\n",
       "    }\n",
       "\n",
       "    .dataframe thead th {\n",
       "        text-align: right;\n",
       "    }\n",
       "</style>\n",
       "<table border=\"1\" class=\"dataframe\">\n",
       "  <thead>\n",
       "    <tr style=\"text-align: right;\">\n",
       "      <th></th>\n",
       "      <th>Jurusan</th>\n",
       "      <th>Usia</th>\n",
       "      <th>Jenis Kelamin</th>\n",
       "      <th>Pendapatan Keluarga</th>\n",
       "      <th>Lokasi Sekolah</th>\n",
       "      <th>Jumlah Jam HP Harian</th>\n",
       "      <th>Potensi Burnout</th>\n",
       "    </tr>\n",
       "  </thead>\n",
       "  <tbody>\n",
       "    <tr>\n",
       "      <th>638</th>\n",
       "      <td>Multimedia</td>\n",
       "      <td>15</td>\n",
       "      <td>Perempuan</td>\n",
       "      <td>Menengah</td>\n",
       "      <td>Suburban</td>\n",
       "      <td>2</td>\n",
       "      <td>Rendah</td>\n",
       "    </tr>\n",
       "    <tr>\n",
       "      <th>264</th>\n",
       "      <td>Multimedia</td>\n",
       "      <td>18</td>\n",
       "      <td>Laki-laki</td>\n",
       "      <td>Tinggi</td>\n",
       "      <td>Suburban</td>\n",
       "      <td>6</td>\n",
       "      <td>Sedang</td>\n",
       "    </tr>\n",
       "    <tr>\n",
       "      <th>259</th>\n",
       "      <td>Multimedia</td>\n",
       "      <td>15</td>\n",
       "      <td>Perempuan</td>\n",
       "      <td>Rendah</td>\n",
       "      <td>Rural</td>\n",
       "      <td>5</td>\n",
       "      <td>Rendah</td>\n",
       "    </tr>\n",
       "    <tr>\n",
       "      <th>495</th>\n",
       "      <td>Perkantoran</td>\n",
       "      <td>17</td>\n",
       "      <td>Perempuan</td>\n",
       "      <td>Tinggi</td>\n",
       "      <td>Urban</td>\n",
       "      <td>4</td>\n",
       "      <td>Rendah</td>\n",
       "    </tr>\n",
       "    <tr>\n",
       "      <th>72</th>\n",
       "      <td>Teknik Mesin</td>\n",
       "      <td>17</td>\n",
       "      <td>Laki-laki</td>\n",
       "      <td>Tinggi</td>\n",
       "      <td>Urban</td>\n",
       "      <td>7</td>\n",
       "      <td>Sedang</td>\n",
       "    </tr>\n",
       "  </tbody>\n",
       "</table>\n",
       "</div>"
      ],
      "text/plain": [
       "          Jurusan  Usia Jenis Kelamin Pendapatan Keluarga Lokasi Sekolah  \\\n",
       "638    Multimedia    15     Perempuan            Menengah       Suburban   \n",
       "264    Multimedia    18     Laki-laki              Tinggi       Suburban   \n",
       "259    Multimedia    15     Perempuan              Rendah          Rural   \n",
       "495   Perkantoran    17     Perempuan              Tinggi          Urban   \n",
       "72   Teknik Mesin    17     Laki-laki              Tinggi          Urban   \n",
       "\n",
       "     Jumlah Jam HP Harian Potensi Burnout  \n",
       "638                     2          Rendah  \n",
       "264                     6          Sedang  \n",
       "259                     5          Rendah  \n",
       "495                     4          Rendah  \n",
       "72                      7          Sedang  "
      ]
     },
     "execution_count": 13,
     "metadata": {},
     "output_type": "execute_result"
    }
   ],
   "source": [
    "df.sample(5, random_state =42)"
   ]
  },
  {
   "cell_type": "code",
   "execution_count": 18,
   "id": "aadfdc0c-0d67-4b5a-b6b2-9f465737afce",
   "metadata": {},
   "outputs": [
    {
     "data": {
      "text/plain": [
       "<function matplotlib.pyplot.show(close=None, block=None)>"
      ]
     },
     "execution_count": 18,
     "metadata": {},
     "output_type": "execute_result"
    },
    {
     "data": {
      "image/png": "[encoded data removed]",
      "text/plain": [
       "<Figure size 600x500 with 1 Axes>"
      ]
     },
     "metadata": {},
     "output_type": "display_data"
    }
   ],
   "source": [
    "import matplotlib.pyplot as plt\n",
    "\n",
    "tinggi = df[df[\"Potensi Burnout\"]==\"Tinggi\"]\n",
    "sedang = df[df[\"Potensi Burnout\"]== \"Sedang\"]\n",
    "rendah = df[df[\"Potensi Burnout\"]==\"Rendah\"]\n",
    "\n",
    "plt.figure(figsize=(6,5))\n",
    "\n",
    "plt.scatter(tinggi[\"Jurusan\"], tinggi[\"Lokasi Sekolah\"], s=100, alpha=0.7, color=\"red\", label=\"Tinggi\")\n",
    "plt.scatter(sedang[\"Jurusan\"], sedang[\"Lokasi Sekolah\"], s=100, alpha=0.7, color=\"yellow\", label=\"Sedang\")\n",
    "plt.scatter(rendah[\"Jurusan\"], rendah[\"Lokasi Sekolah\"], s=100, alpha=0.7, color=\"green\", label=\"Rendah\")\n",
    "plt.xlabel(\"Jurusan\")\n",
    "plt.ylabel(\"Lokasi Sekolah\")\n",
    "plt.title(\"Lokasi Vs Jurusan\")\n",
    "plt.grid(True, linestyle=\"--\", alpha=0.7)\n",
    "plt.legend()\n",
    "plt.show"
   ]
  },
  {
   "cell_type": "code",
   "execution_count": 39,
   "id": "35a46d4e-4a6b-4077-b223-c2598abd90f7",
   "metadata": {},
   "outputs": [
    {
     "name": "stdout",
     "output_type": "stream",
     "text": [
      "Accuracy Score : 0.8244274809160306\n",
      "\n",
      "Classification Report :\n",
      "               precision    recall  f1-score   support\n",
      "\n",
      "      Rendah       0.91      0.77      0.83        39\n",
      "      Sedang       0.78      0.70      0.74        40\n",
      "      Tinggi       0.81      0.96      0.88        52\n",
      "\n",
      "    accuracy                           0.82       131\n",
      "   macro avg       0.83      0.81      0.82       131\n",
      "weighted avg       0.83      0.82      0.82       131\n",
      "\n",
      "\n",
      "Confusion Matrix :\n",
      " [[30  8  1]\n",
      " [ 1 28 11]\n",
      " [ 2  0 50]]\n",
      "Cross-validation Accuracy Scores: [0.82949309 0.82488479 0.83410138]\n",
      "Mean CV Accuracy: 0.8295 (+/- 0.0075)\n"
     ]
    }
   ],
   "source": [
    "from sklearn.linear_model import LogisticRegression\n",
    "from sklearn.model_selection import train_test_split, cross_val_score\n",
    "from sklearn.preprocessing import StandardScaler, OneHotEncoder, OrdinalEncoder\n",
    "from sklearn.metrics import accuracy_score, classification_report, confusion_matrix\n",
    "from sklearn.pipeline import Pipeline\n",
    "from sklearn.compose import ColumnTransformer\n",
    "\n",
    "X = df[[\"Jurusan\",\t\"Usia\",\t\"Jenis Kelamin\",\t\"Pendapatan Keluarga\",\t\"Lokasi Sekolah\",\t\"Jumlah Jam HP Harian\"]]\n",
    "y = df[\"Potensi Burnout\"]\n",
    "\n",
    "X_train, X_test, y_train, y_test = train_test_split(\n",
    "    X,y, test_size=0.2, random_state=42\n",
    ")\n",
    "\n",
    "numeric_column = [\"Usia\", \"Jumlah Jam HP Harian\"]\n",
    "categorical_column = [\"Jurusan\", \"Jenis Kelamin\", \"Lokasi Sekolah\"]\n",
    "ordinal_column = [\"Pendapatan Keluarga\"]\n",
    "\n",
    "pendapatan_order =[\"Rendah\", \"Menengah\", \"Tinggi\"]\n",
    "ordinal_order = [pendapatan_order]\n",
    "\n",
    "preprocessing = ColumnTransformer(\n",
    "    transformers=[\n",
    "        (\"scaler\", StandardScaler(), numeric_column),\n",
    "        (\"ohe\", OneHotEncoder(), categorical_column),\n",
    "        (\"oe\", OrdinalEncoder(categories=ordinal_order), ordinal_column)\n",
    "    ]\n",
    ")\n",
    "\n",
    "model = Pipeline(\n",
    "    steps = [\n",
    "        (\"preprocessing\", preprocessing),\n",
    "        (\"model\", LogisticRegression())\n",
    "    ]\n",
    ")\n",
    "\n",
    "model.fit(X_train,y_train)\n",
    "y_pred = model.predict(X_test)\n",
    "print(\"Accuracy Score :\", accuracy_score(y_test, y_pred))\n",
    "print(\"\\nClassification Report :\\n\", classification_report(y_test, y_pred))\n",
    "print(\"\\nConfusion Matrix :\\n\", confusion_matrix(y_test, y_pred))"
   ]
  },
  {
   "cell_type": "code",
   "execution_count": 51,
   "id": "9ab8c0fd-a74d-461e-8529-bca395ddf50c",
   "metadata": {},
   "outputs": [
    {
     "name": "stdout",
     "output_type": "stream",
     "text": [
      "Cross-validation Accuracy Scores: [0.85496183 0.84615385 0.86923077 0.86923077 0.85384615]\n",
      "Mean CV Accuracy: 0.8587 (+/- 0.0183)\n"
     ]
    }
   ],
   "source": [
    "scores = cross_val_score(model, X, y, cv=5, scoring='accuracy')\n",
    "print(f\"Cross-validation Accuracy Scores: {scores}\")\n",
    "print(f\"Mean CV Accuracy: {scores.mean():.4f} (+/- {scores.std() * 2:.4f})\")"
   ]
  },
  {
   "cell_type": "code",
   "execution_count": 63,
   "id": "97836276-c1e6-48a3-8a41-e8b5864f8f4a",
   "metadata": {},
   "outputs": [
    {
     "name": "stdout",
     "output_type": "stream",
     "text": [
      "Model memprediksi Sedang dengan tingkat keyakinan 57.75%\n"
     ]
    }
   ],
   "source": [
    "data_baru= pd.DataFrame([[\"Akuntansi\", \"16\", \"Perempuan\", \"Tinggi\", \"Urban\", \"7\"]],\n",
    "                         columns=[\"Jurusan\",\t\"Usia\",\t\"Jenis Kelamin\",\t\"Pendapatan Keluarga\",\t\"Lokasi Sekolah\",\t\"Jumlah Jam HP Harian\"])\n",
    "prediksi = model.predict(data_baru)[0]\n",
    "presentase = max(model.predict_proba(data_baru)[0])\n",
    "print(f\"Model memprediksi {prediksi} dengan tingkat keyakinan {presentase*100:.2f}%\")"
   ]
  },
  {
   "cell_type": "code",
   "execution_count": 45,
   "id": "9f44725e-1fac-4c4b-a17d-73ef7705f182",
   "metadata": {},
   "outputs": [
    {
     "name": "stdout",
     "output_type": "stream",
     "text": [
      "Accuracy Score : 0.7709923664122137\n",
      "\n",
      "Classification Report :\n",
      "               precision    recall  f1-score   support\n",
      "\n",
      "      Rendah       0.74      0.72      0.73        39\n",
      "      Sedang       0.67      0.72      0.70        40\n",
      "      Tinggi       0.88      0.85      0.86        52\n",
      "\n",
      "    accuracy                           0.77       131\n",
      "   macro avg       0.76      0.76      0.76       131\n",
      "weighted avg       0.77      0.77      0.77       131\n",
      "\n",
      "\n",
      "Confusion Matrix :\n",
      " [[28  8  3]\n",
      " [ 8 29  3]\n",
      " [ 2  6 44]]\n"
     ]
    }
   ],
   "source": [
    "from sklearn.tree import DecisionTreeClassifier\n",
    "from sklearn.model_selection import train_test_split, cross_val_score\n",
    "from sklearn.preprocessing import StandardScaler, OneHotEncoder, OrdinalEncoder\n",
    "from sklearn.metrics import accuracy_score, classification_report, confusion_matrix\n",
    "from sklearn.pipeline import Pipeline\n",
    "from sklearn.compose import ColumnTransformer\n",
    "\n",
    "X = df[[\"Jurusan\",\t\"Usia\",\t\"Jenis Kelamin\",\t\"Pendapatan Keluarga\",\t\"Lokasi Sekolah\",\t\"Jumlah Jam HP Harian\"]]\n",
    "y = df[\"Potensi Burnout\"]\n",
    "\n",
    "X_train, X_test, y_train, y_test = train_test_split(\n",
    "    X,y, test_size=0.2, random_state=42\n",
    ")\n",
    "\n",
    "numeric_column = [\"Usia\", \"Jumlah Jam HP Harian\"]\n",
    "categorical_column = [\"Jurusan\", \"Jenis Kelamin\", \"Lokasi Sekolah\"]\n",
    "ordinal_column = [\"Pendapatan Keluarga\"]\n",
    "\n",
    "pendapatan_order =[\"Rendah\", \"Menengah\", \"Tinggi\"]\n",
    "ordinal_order = [pendapatan_order]\n",
    "\n",
    "preprocessing = ColumnTransformer(\n",
    "    transformers=[\n",
    "        (\"scaler\", StandardScaler(), numeric_column),\n",
    "        (\"ohe\", OneHotEncoder(), categorical_column),\n",
    "        (\"oe\", OrdinalEncoder(categories=ordinal_order), ordinal_column)\n",
    "    ]\n",
    ")\n",
    "\n",
    "model = Pipeline(\n",
    "    steps = [\n",
    "        (\"preprocessing\", preprocessing),\n",
    "        (\"model\", DecisionTreeClassifier(random_state= 42))\n",
    "    ]\n",
    ")\n",
    "\n",
    "model.fit(X_train,y_train)\n",
    "y_pred = model.predict(X_test)\n",
    "print(\"Accuracy Score :\", accuracy_score(y_test, y_pred))\n",
    "print(\"\\nClassification Report :\\n\", classification_report(y_test, y_pred))\n",
    "print(\"\\nConfusion Matrix :\\n\", confusion_matrix(y_test, y_pred))"
   ]
  },
  {
   "cell_type": "code",
   "execution_count": 52,
   "id": "2f8b9c07-dba3-4a4b-b681-8dbbb089c5ad",
   "metadata": {},
   "outputs": [
    {
     "name": "stdout",
     "output_type": "stream",
     "text": [
      "Cross-validation Accuracy Scores: [0.85496183 0.84615385 0.86923077 0.86923077 0.85384615]\n",
      "Mean CV Accuracy: 0.8587 (+/- 0.0183)\n"
     ]
    }
   ],
   "source": [
    "scores = cross_val_score(model, X, y, cv=5, scoring='accuracy')\n",
    "print(f\"Cross-validation Accuracy Scores: {scores}\")\n",
    "print(f\"Mean CV Accuracy: {scores.mean():.4f} (+/- {scores.std() * 2:.4f})\")"
   ]
  },
  {
   "cell_type": "code",
   "execution_count": 49,
   "id": "d73357c8-c10d-458a-9608-febb0ca977ea",
   "metadata": {},
   "outputs": [
    {
     "name": "stdout",
     "output_type": "stream",
     "text": [
      "Accuracy Score : 0.8320610687022901\n",
      "\n",
      "Classification Report :\n",
      "               precision    recall  f1-score   support\n",
      "\n",
      "      Rendah       0.93      0.67      0.78        39\n",
      "      Sedang       0.73      0.93      0.81        40\n",
      "      Tinggi       0.88      0.88      0.88        52\n",
      "\n",
      "    accuracy                           0.83       131\n",
      "   macro avg       0.85      0.83      0.82       131\n",
      "weighted avg       0.85      0.83      0.83       131\n",
      "\n",
      "\n",
      "Confusion Matrix :\n",
      " [[26 10  3]\n",
      " [ 0 37  3]\n",
      " [ 2  4 46]]\n"
     ]
    }
   ],
   "source": [
    "from sklearn.ensemble import RandomForestClassifier\n",
    "from sklearn.model_selection import train_test_split, cross_val_score\n",
    "from sklearn.preprocessing import StandardScaler, OneHotEncoder, OrdinalEncoder\n",
    "from sklearn.metrics import accuracy_score, classification_report, confusion_matrix\n",
    "from sklearn.pipeline import Pipeline\n",
    "from sklearn.compose import ColumnTransformer\n",
    "\n",
    "X = df[[\"Jurusan\",\t\"Usia\",\t\"Jenis Kelamin\",\t\"Pendapatan Keluarga\",\t\"Lokasi Sekolah\",\t\"Jumlah Jam HP Harian\"]]\n",
    "y = df[\"Potensi Burnout\"]\n",
    "\n",
    "X_train, X_test, y_train, y_test = train_test_split(\n",
    "    X,y, test_size=0.2, random_state=42\n",
    ")\n",
    "\n",
    "numeric_column = [\"Usia\", \"Jumlah Jam HP Harian\"]\n",
    "categorical_column = [\"Jurusan\", \"Jenis Kelamin\", \"Lokasi Sekolah\"]\n",
    "ordinal_column = [\"Pendapatan Keluarga\"]\n",
    "\n",
    "pendapatan_order =[\"Rendah\", \"Menengah\", \"Tinggi\"]\n",
    "ordinal_order = [pendapatan_order]\n",
    "\n",
    "preprocessing = ColumnTransformer(\n",
    "    transformers=[\n",
    "        (\"scaler\", StandardScaler(), numeric_column),\n",
    "        (\"ohe\", OneHotEncoder(), categorical_column),\n",
    "        (\"oe\", OrdinalEncoder(categories=ordinal_order), ordinal_column)\n",
    "    ]\n",
    ")\n",
    "\n",
    "model = Pipeline(\n",
    "    steps = [\n",
    "        (\"preprocessing\", preprocessing),\n",
    "        (\"model\", RandomForestClassifier(random_state= 42))\n",
    "    ]\n",
    ")\n",
    "\n",
    "model.fit(X_train,y_train)\n",
    "y_pred = model.predict(X_test)\n",
    "print(\"Accuracy Score :\", accuracy_score(y_test, y_pred))\n",
    "print(\"\\nClassification Report :\\n\", classification_report(y_test, y_pred))\n",
    "print(\"\\nConfusion Matrix :\\n\", confusion_matrix(y_test, y_pred))"
   ]
  },
  {
   "cell_type": "code",
   "execution_count": 53,
   "id": "06b63309-c84c-45f9-a285-0e1a512071dc",
   "metadata": {},
   "outputs": [
    {
     "name": "stdout",
     "output_type": "stream",
     "text": [
      "Cross-validation Accuracy Scores: [0.85496183 0.84615385 0.86923077 0.86923077 0.85384615]\n",
      "Mean CV Accuracy: 0.8587 (+/- 0.0183)\n"
     ]
    }
   ],
   "source": [
    "scores = cross_val_score(model, X, y, cv=5, scoring='accuracy')\n",
    "print(f\"Cross-validation Accuracy Scores: {scores}\")\n",
    "print(f\"Mean CV Accuracy: {scores.mean():.4f} (+/- {scores.std() * 2:.4f})\")"
   ]
  },
  {
   "cell_type": "code",
   "execution_count": null,
   "id": "5b70ea34-6f48-45a4-bc1f-dcd981d04790",
   "metadata": {},
   "outputs": [],
   "source": [
    "!pip install catboost"
   ]
  },
  {
   "cell_type": "code",
   "execution_count": 75,
   "id": "f892583c-b30c-445f-b081-6462058ef2be",
   "metadata": {},
   "outputs": [
    {
     "name": "stdout",
     "output_type": "stream",
     "text": [
      "Accuracy: 0.8854961832061069\n",
      "\n",
      "Classification Report:\n",
      "               precision    recall  f1-score   support\n",
      "\n",
      "      Rendah       0.94      0.74      0.83        39\n",
      "      Sedang       0.82      0.93      0.87        40\n",
      "      Tinggi       0.91      0.96      0.93        52\n",
      "\n",
      "    accuracy                           0.89       131\n",
      "   macro avg       0.89      0.88      0.88       131\n",
      "weighted avg       0.89      0.89      0.88       131\n",
      "\n",
      "\n",
      "Confusion Matrix:\n",
      " [[29  8  2]\n",
      " [ 0 37  3]\n",
      " [ 2  0 50]]\n"
     ]
    }
   ],
   "source": [
    "from catboost import CatBoostClassifier\n",
    "from sklearn.model_selection import train_test_split, cross_val_score\n",
    "from sklearn.metrics import accuracy_score, classification_report, confusion_matrix\n",
    "from sklearn.preprocessing import StandardScaler, OneHotEncoder, OrdinalEncoder\n",
    "from sklearn.pipeline import Pipeline\n",
    "from sklearn.compose import ColumnTransformer\n",
    "\n",
    "# Pisahkan fitur dan target\n",
    "X = df[[\"Jurusan\", \"Usia\", \"Jenis Kelamin\", \"Pendapatan Keluarga\", \"Lokasi Sekolah\", \"Jumlah Jam HP Harian\"]]\n",
    "y = df[\"Potensi Burnout\"]\n",
    "\n",
    "# Split data\n",
    "X_train, X_test, y_train, y_test = train_test_split(\n",
    "    X, y, test_size=0.2, random_state=42\n",
    ")\n",
    "\n",
    "# Fitur kategorikal\n",
    "cat_features = [\"Jurusan\", \"Jenis Kelamin\", \"Pendapatan Keluarga\", \"Lokasi Sekolah\"]\n",
    "\n",
    "# Inisialisasi model CatBoost\n",
    "model = CatBoostClassifier(\n",
    "    cat_features=cat_features,\n",
    "    iterations=500,\n",
    "    learning_rate=0.1,\n",
    "    depth=6,\n",
    "    random_seed=42,\n",
    "    verbose=0\n",
    ")\n",
    "\n",
    "# Latih model\n",
    "model.fit(X_train, y_train)\n",
    "\n",
    "# Prediksi\n",
    "y_pred = model.predict(X_test)\n",
    "\n",
    "# Evaluasi hasil\n",
    "print(\"Accuracy:\", accuracy_score(y_test, y_pred))\n",
    "print(\"\\nClassification Report:\\n\", classification_report(y_test, y_pred))\n",
    "print(\"\\nConfusion Matrix:\\n\", confusion_matrix(y_test, y_pred))\n"
   ]
  },
  {
   "cell_type": "code",
   "execution_count": 73,
   "id": "e9d18506-ca16-4c0f-8904-9b9f84e00112",
   "metadata": {},
   "outputs": [
    {
     "name": "stdout",
     "output_type": "stream",
     "text": [
      "Scores: [0.90384615 0.90384615 0.84615385 0.91346154 0.91346154]\n",
      "Mean Scores: 0.8961538461538462\n"
     ]
    }
   ],
   "source": [
    "scores = cross_val_score(model, X_train, y_train, cv=5, scoring=\"accuracy\")\n",
    "print(\"Scores:\", scores)\n",
    "print(\"Mean Scores:\", scores.mean())"
   ]
  },
  {
   "cell_type": "code",
   "execution_count": 76,
   "id": "77520fcf-fba5-4f19-9120-4fbe4872f182",
   "metadata": {},
   "outputs": [
    {
     "data": {
      "text/plain": [
       "['model_klasifikasi_kesehatan_mental.joblib']"
      ]
     },
     "execution_count": 76,
     "metadata": {},
     "output_type": "execute_result"
    }
   ],
   "source": [
    "import joblib\n",
    "joblib.dump(model, \"model_klasifikasi_kesehatan_mental.joblib\")"
   ]
  },
  {
   "cell_type": "code",
   "execution_count": null,
   "id": "12e167e5-1b3b-403f-9edb-215abb06c2cb",
   "metadata": {},
   "outputs": [],
   "source": [
    "!streamlit run app_streamlit.py"
   ]
  }
 ],
 "metadata": {
  "kernelspec": {
   "display_name": "Python 3 (ipykernel)",
   "language": "python",
   "name": "python3"
  },
  "language_info": {
   "codemirror_mode": {
    "name": "ipython",
    "version": 3
   },
   "file_extension": ".py",
   "mimetype": "text/x-python",
   "name": "python",
   "nbconvert_exporter": "python",
   "pygments_lexer": "ipython3",
   "version": "3.13.5"
  }
 },
 "nbformat": 4,
 "nbformat_minor": 5
}
